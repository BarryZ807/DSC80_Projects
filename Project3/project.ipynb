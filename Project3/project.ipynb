{
 "cells": [
  {
   "cell_type": "code",
   "execution_count": 1,
   "metadata": {
    "deletable": false,
    "editable": false
   },
   "outputs": [],
   "source": [
    "# Initialize Otter\n",
    "import otter\n",
    "grader = otter.Notebook(\"project.ipynb\")"
   ]
  },
  {
   "cell_type": "markdown",
   "metadata": {},
   "source": [
    "# Project 01 – The Other Side of Gradescope\n",
    "\n",
    "## DSC 80, Fall 2021\n",
    "\n",
    "### Checkpoint Due Date: Thursday, October 7\n",
    "### Due Date: Thursday, October 14"
   ]
  },
  {
   "cell_type": "markdown",
   "metadata": {},
   "source": [
    "---\n",
    "# Instructions\n",
    "\n",
    "This Jupyter Notebook contains the statements of the problems and provides code and markdown cells to display your answers to the problems.  \n",
    "* Like the lab, your coding work will be developed in the accompanying `project.py` file, that will be imported into the current notebook. This code will be autograded.\n",
    "* **For the checkpoint, you only need to turn in a `project.py` containing solutions for questions 1-4**\n",
    "    - The checkpoint autograder on Gradescope does not thoroughly check your code -- it only runs the doctests on problems 1-4 to make sure that you have completed them. When you submit the final version of the project, we will use more tests to check these answers more thoroughly.\n",
    "\n",
    "**Do not change the function names in the `*.py` file**\n",
    "- The functions in the `*.py` file are how your assignment is graded, and they are graded by their name.\n",
    "- If you changed something you weren't supposed to, just use git to revert!\n",
    "\n",
    "**Tips for developing in the .py file**:\n",
    "- Do not change the function names in the starter code; grading is done using these function names.\n",
    "- Do not change the docstrings in the functions. These are there to tell you if your work is on the right track!\n",
    "- You are **encouraged to write your own additional functions** to solve the questions! \n",
    "    - Developing in python usually consists of larger files, with many short functions.\n",
    "    - You may write your other functions in an additional `.py` file that you import in `project.py` -- however, be sure to upload these to gradescope as well!\n",
    "- Always document your code!\n",
    "\n",
    "**Tips for testing the correctness of your answers!**\n",
    "Once you have your work saved in the .py file, you should import the `project` to test your function out in the notebook. In the notebook you should inspect/analyze the output to assess its correctness!\n",
    "* Run your functions on the main dataset (`grades`) and ask yourself if the output *looks correct.*\n",
    "* Run your functions on very small datasets (e.g. 1-5 row table), calculate the expected response by hand, and see if the function output matches (this *is* unit-testing your code with data).\n",
    "* Run your functions on (large and small) samples of the dataset `grades` (with and without replacement). Does your code break? Or does it still run as expected."
   ]
  },
  {
   "cell_type": "code",
   "execution_count": 2,
   "metadata": {},
   "outputs": [],
   "source": [
    "%load_ext autoreload\n",
    "%autoreload 2"
   ]
  },
  {
   "cell_type": "code",
   "execution_count": 3,
   "metadata": {},
   "outputs": [],
   "source": [
    "import pandas as pd\n",
    "import numpy as np\n",
    "import os"
   ]
  },
  {
   "cell_type": "code",
   "execution_count": 4,
   "metadata": {},
   "outputs": [],
   "source": [
    "from project import *"
   ]
  },
  {
   "cell_type": "markdown",
   "metadata": {},
   "source": [
    "## About the Assignment\n",
    "\n",
    "The file contains the grade-book from a fictional data science course with 535 students. \n",
    "\n",
    "**Note: this dataset is synthetically generated; it does not contain real student grades. The course syllabus below is also similar, but not exactly the same as the course syllabus for this class!**\n",
    "\n",
    "In this project, you will:\n",
    "1. clean and process the data to compute total course grades according to a fictional syllabus (below),\n",
    "2. qualitatively understand how students did in the course,\n",
    "3. understand how student grades vary with small changes in performance on each assignment.\n",
    "\n",
    "---\n",
    "\n",
    "The course syllabus for this fictional class is as follows:\n",
    "\n",
    "* Lab assignments \n",
    "    - Each are worth the same amount, regardless of each lab's raw point total.\n",
    "    - The lowest lab is dropped.\n",
    "    - Each lab may be revised for one week after submission for a 10% penalty, for two weeks after submission for a 30% penalty, and beyond that for a 60% penalty. Such revisions are reflected in the `Lateness` columns in the gradebook.\n",
    "    - Labs are 20% of the total grade.\n",
    "* Projects \n",
    "    - Each project consists of an autograded portion, and *possibly* a free response portion.\n",
    "    - The total points for a single project consist of the sum of the raw score of the two portions.\n",
    "    - Each are worth the same amount, regardless of each project's raw point total.\n",
    "    - Projects are 30% of the total grade.\n",
    "* Checkpoints\n",
    "    - Project checkpoints are worth 2.5% of the total grade.\n",
    "* Discussion\n",
    "    - Discussion notebooks are worth 2.5% of the total grade.\n",
    "* Exams\n",
    "    - The midterm is worth 15% of the total grade.\n",
    "    - The final is worth 30% of the total grade.\n"
   ]
  },
  {
   "cell_type": "markdown",
   "metadata": {},
   "source": [
    "### A note on generalization\n",
    "\n",
    "You may assume that your code will only need to work on a gradebook for a class with the syllabus given above. That is, you may assume that the dataframe `grades` looks like the given one in `data/grades.csv`.\n",
    "\n",
    "However, such a class:\n",
    "1. may have a different numbers of labs, projects, discussions, and project checkpoints.\n",
    "2. may have a different number of students.\n",
    "\n",
    "You may assume the course components and the naming conventions are as given in the data file.\n",
    "\n",
    "The dataset was generated by Gradescope; you must attempt to reason about the data as given using what you know as a student who uses Gradescope.\n",
    "\n",
    "### A note on 'putting everything together'\n",
    "\n",
    "The goal of this project is to create and assess final grades for a fictional course; if anything, the process is broken down into functions for your convenience and guidance. Here are a few remarks and tips for approaching the projects:\n",
    "1. If you are having trouble figuring out what a question is asking you to do, look at the big picture and try to understand what the current step is doing to contribute to this big picture. This may clarify what's being asked!\n",
    "1. These questions intentionally build off of each other and the final result matters! In fact, you can 'get a question correct', but only receive partial credit on it because a previous answer was wrong.\n",
    "    - Credit for a question will typically receive partial credit based on *how close* your answer is to correct (as well as some credit for a solution in the correct form). \n",
    "    - You should try to assess your answer to each question based on what you understand of the data. This might involve writing extensive code (that isn't turned in) just to check your work! Suggestions on checking your work are given in the assignment, but you should also think of your own ways of checking your work.\n",
    "    - As you do this project, think about the data from the perspective of the student (which should be easy to do!)"
   ]
  },
  {
   "cell_type": "code",
   "execution_count": 5,
   "metadata": {},
   "outputs": [
    {
     "data": {
      "text/html": [
       "<div>\n",
       "<style scoped>\n",
       "    .dataframe tbody tr th:only-of-type {\n",
       "        vertical-align: middle;\n",
       "    }\n",
       "\n",
       "    .dataframe tbody tr th {\n",
       "        vertical-align: top;\n",
       "    }\n",
       "\n",
       "    .dataframe thead th {\n",
       "        text-align: right;\n",
       "    }\n",
       "</style>\n",
       "<table border=\"1\" class=\"dataframe\">\n",
       "  <thead>\n",
       "    <tr style=\"text-align: right;\">\n",
       "      <th></th>\n",
       "      <th>PID</th>\n",
       "      <th>College</th>\n",
       "      <th>Level</th>\n",
       "      <th>lab01</th>\n",
       "      <th>lab01 - Max Points</th>\n",
       "      <th>lab01 - Lateness (H:M:S)</th>\n",
       "      <th>lab02</th>\n",
       "      <th>lab02 - Max Points</th>\n",
       "      <th>lab02 - Lateness (H:M:S)</th>\n",
       "      <th>project01</th>\n",
       "      <th>...</th>\n",
       "      <th>discussion07 - Lateness (H:M:S)</th>\n",
       "      <th>discussion08</th>\n",
       "      <th>discussion08 - Max Points</th>\n",
       "      <th>discussion08 - Lateness (H:M:S)</th>\n",
       "      <th>discussion09</th>\n",
       "      <th>discussion09 - Max Points</th>\n",
       "      <th>discussion09 - Lateness (H:M:S)</th>\n",
       "      <th>discussion10</th>\n",
       "      <th>discussion10 - Max Points</th>\n",
       "      <th>discussion10 - Lateness (H:M:S)</th>\n",
       "    </tr>\n",
       "  </thead>\n",
       "  <tbody>\n",
       "    <tr>\n",
       "      <th>0</th>\n",
       "      <td>A14721419</td>\n",
       "      <td>SI</td>\n",
       "      <td>JR</td>\n",
       "      <td>99.735279</td>\n",
       "      <td>100.0</td>\n",
       "      <td>00:00:00</td>\n",
       "      <td>84.990171</td>\n",
       "      <td>100.0</td>\n",
       "      <td>00:00:00</td>\n",
       "      <td>75.282632</td>\n",
       "      <td>...</td>\n",
       "      <td>00:00:00</td>\n",
       "      <td>8.895294</td>\n",
       "      <td>10</td>\n",
       "      <td>00:00:00</td>\n",
       "      <td>10.000000</td>\n",
       "      <td>10</td>\n",
       "      <td>780:01:28</td>\n",
       "      <td>10.000000</td>\n",
       "      <td>10</td>\n",
       "      <td>00:00:00</td>\n",
       "    </tr>\n",
       "    <tr>\n",
       "      <th>1</th>\n",
       "      <td>A14883274</td>\n",
       "      <td>TH</td>\n",
       "      <td>JR</td>\n",
       "      <td>98.829476</td>\n",
       "      <td>100.0</td>\n",
       "      <td>00:00:00</td>\n",
       "      <td>50.784231</td>\n",
       "      <td>100.0</td>\n",
       "      <td>00:00:00</td>\n",
       "      <td>52.929482</td>\n",
       "      <td>...</td>\n",
       "      <td>669:12:21</td>\n",
       "      <td>9.022407</td>\n",
       "      <td>10</td>\n",
       "      <td>00:00:00</td>\n",
       "      <td>9.020283</td>\n",
       "      <td>10</td>\n",
       "      <td>00:00:00</td>\n",
       "      <td>9.437368</td>\n",
       "      <td>10</td>\n",
       "      <td>00:00:00</td>\n",
       "    </tr>\n",
       "    <tr>\n",
       "      <th>2</th>\n",
       "      <td>A14164800</td>\n",
       "      <td>SI</td>\n",
       "      <td>SR</td>\n",
       "      <td>86.513369</td>\n",
       "      <td>100.0</td>\n",
       "      <td>00:00:00</td>\n",
       "      <td>47.802820</td>\n",
       "      <td>100.0</td>\n",
       "      <td>00:00:00</td>\n",
       "      <td>46.122801</td>\n",
       "      <td>...</td>\n",
       "      <td>00:00:00</td>\n",
       "      <td>3.030538</td>\n",
       "      <td>10</td>\n",
       "      <td>00:04:51</td>\n",
       "      <td>7.613698</td>\n",
       "      <td>10</td>\n",
       "      <td>00:00:00</td>\n",
       "      <td>9.624617</td>\n",
       "      <td>10</td>\n",
       "      <td>00:00:00</td>\n",
       "    </tr>\n",
       "    <tr>\n",
       "      <th>3</th>\n",
       "      <td>A14847419</td>\n",
       "      <td>TH</td>\n",
       "      <td>JR</td>\n",
       "      <td>100.000000</td>\n",
       "      <td>100.0</td>\n",
       "      <td>00:00:00</td>\n",
       "      <td>100.000000</td>\n",
       "      <td>100.0</td>\n",
       "      <td>00:00:00</td>\n",
       "      <td>79.121806</td>\n",
       "      <td>...</td>\n",
       "      <td>00:00:00</td>\n",
       "      <td>10.000000</td>\n",
       "      <td>10</td>\n",
       "      <td>00:00:00</td>\n",
       "      <td>9.249126</td>\n",
       "      <td>10</td>\n",
       "      <td>00:00:00</td>\n",
       "      <td>10.000000</td>\n",
       "      <td>10</td>\n",
       "      <td>00:00:00</td>\n",
       "    </tr>\n",
       "    <tr>\n",
       "      <th>4</th>\n",
       "      <td>A14162943</td>\n",
       "      <td>SI</td>\n",
       "      <td>JR</td>\n",
       "      <td>66.506974</td>\n",
       "      <td>100.0</td>\n",
       "      <td>00:00:00</td>\n",
       "      <td>33.422412</td>\n",
       "      <td>100.0</td>\n",
       "      <td>00:00:00</td>\n",
       "      <td>41.823703</td>\n",
       "      <td>...</td>\n",
       "      <td>00:00:00</td>\n",
       "      <td>4.439606</td>\n",
       "      <td>10</td>\n",
       "      <td>00:00:00</td>\n",
       "      <td>4.485291</td>\n",
       "      <td>10</td>\n",
       "      <td>00:00:00</td>\n",
       "      <td>6.282712</td>\n",
       "      <td>10</td>\n",
       "      <td>00:00:00</td>\n",
       "    </tr>\n",
       "    <tr>\n",
       "      <th>...</th>\n",
       "      <td>...</td>\n",
       "      <td>...</td>\n",
       "      <td>...</td>\n",
       "      <td>...</td>\n",
       "      <td>...</td>\n",
       "      <td>...</td>\n",
       "      <td>...</td>\n",
       "      <td>...</td>\n",
       "      <td>...</td>\n",
       "      <td>...</td>\n",
       "      <td>...</td>\n",
       "      <td>...</td>\n",
       "      <td>...</td>\n",
       "      <td>...</td>\n",
       "      <td>...</td>\n",
       "      <td>...</td>\n",
       "      <td>...</td>\n",
       "      <td>...</td>\n",
       "      <td>...</td>\n",
       "      <td>...</td>\n",
       "      <td>...</td>\n",
       "    </tr>\n",
       "    <tr>\n",
       "      <th>530</th>\n",
       "      <td>A14490387</td>\n",
       "      <td>SI</td>\n",
       "      <td>JR</td>\n",
       "      <td>100.000000</td>\n",
       "      <td>100.0</td>\n",
       "      <td>47:26:10</td>\n",
       "      <td>82.022753</td>\n",
       "      <td>100.0</td>\n",
       "      <td>00:00:00</td>\n",
       "      <td>78.936816</td>\n",
       "      <td>...</td>\n",
       "      <td>00:00:00</td>\n",
       "      <td>10.000000</td>\n",
       "      <td>10</td>\n",
       "      <td>12:08:58</td>\n",
       "      <td>9.169447</td>\n",
       "      <td>10</td>\n",
       "      <td>00:00:00</td>\n",
       "      <td>10.000000</td>\n",
       "      <td>10</td>\n",
       "      <td>00:00:00</td>\n",
       "    </tr>\n",
       "    <tr>\n",
       "      <th>531</th>\n",
       "      <td>A14088257</td>\n",
       "      <td>SI</td>\n",
       "      <td>SO</td>\n",
       "      <td>100.000000</td>\n",
       "      <td>100.0</td>\n",
       "      <td>00:00:00</td>\n",
       "      <td>87.498073</td>\n",
       "      <td>100.0</td>\n",
       "      <td>00:00:00</td>\n",
       "      <td>72.076801</td>\n",
       "      <td>...</td>\n",
       "      <td>00:00:00</td>\n",
       "      <td>10.000000</td>\n",
       "      <td>10</td>\n",
       "      <td>00:00:00</td>\n",
       "      <td>10.000000</td>\n",
       "      <td>10</td>\n",
       "      <td>00:00:00</td>\n",
       "      <td>10.000000</td>\n",
       "      <td>10</td>\n",
       "      <td>00:00:00</td>\n",
       "    </tr>\n",
       "    <tr>\n",
       "      <th>532</th>\n",
       "      <td>A14847419</td>\n",
       "      <td>WA</td>\n",
       "      <td>JR</td>\n",
       "      <td>88.656641</td>\n",
       "      <td>100.0</td>\n",
       "      <td>00:00:00</td>\n",
       "      <td>90.326041</td>\n",
       "      <td>100.0</td>\n",
       "      <td>00:00:00</td>\n",
       "      <td>66.273252</td>\n",
       "      <td>...</td>\n",
       "      <td>00:00:00</td>\n",
       "      <td>9.878661</td>\n",
       "      <td>10</td>\n",
       "      <td>00:00:00</td>\n",
       "      <td>8.878946</td>\n",
       "      <td>10</td>\n",
       "      <td>00:00:00</td>\n",
       "      <td>10.000000</td>\n",
       "      <td>10</td>\n",
       "      <td>00:00:00</td>\n",
       "    </tr>\n",
       "    <tr>\n",
       "      <th>533</th>\n",
       "      <td>A14513929</td>\n",
       "      <td>TH</td>\n",
       "      <td>SR</td>\n",
       "      <td>83.799719</td>\n",
       "      <td>100.0</td>\n",
       "      <td>00:00:00</td>\n",
       "      <td>85.636947</td>\n",
       "      <td>100.0</td>\n",
       "      <td>00:00:00</td>\n",
       "      <td>63.965217</td>\n",
       "      <td>...</td>\n",
       "      <td>00:00:00</td>\n",
       "      <td>7.759434</td>\n",
       "      <td>10</td>\n",
       "      <td>00:00:00</td>\n",
       "      <td>8.655478</td>\n",
       "      <td>10</td>\n",
       "      <td>419:06:41</td>\n",
       "      <td>8.102277</td>\n",
       "      <td>10</td>\n",
       "      <td>00:00:00</td>\n",
       "    </tr>\n",
       "    <tr>\n",
       "      <th>534</th>\n",
       "      <td>A14365863</td>\n",
       "      <td>WA</td>\n",
       "      <td>SR</td>\n",
       "      <td>88.389331</td>\n",
       "      <td>100.0</td>\n",
       "      <td>00:00:00</td>\n",
       "      <td>73.045171</td>\n",
       "      <td>100.0</td>\n",
       "      <td>00:00:00</td>\n",
       "      <td>77.572115</td>\n",
       "      <td>...</td>\n",
       "      <td>21:47:10</td>\n",
       "      <td>10.000000</td>\n",
       "      <td>10</td>\n",
       "      <td>00:00:00</td>\n",
       "      <td>9.515494</td>\n",
       "      <td>10</td>\n",
       "      <td>00:00:00</td>\n",
       "      <td>10.000000</td>\n",
       "      <td>10</td>\n",
       "      <td>00:00:00</td>\n",
       "    </tr>\n",
       "  </tbody>\n",
       "</table>\n",
       "<p>535 rows × 100 columns</p>\n",
       "</div>"
      ],
      "text/plain": [
       "           PID College Level       lab01  lab01 - Max Points  \\\n",
       "0    A14721419      SI    JR   99.735279               100.0   \n",
       "1    A14883274      TH    JR   98.829476               100.0   \n",
       "2    A14164800      SI    SR   86.513369               100.0   \n",
       "3    A14847419      TH    JR  100.000000               100.0   \n",
       "4    A14162943      SI    JR   66.506974               100.0   \n",
       "..         ...     ...   ...         ...                 ...   \n",
       "530  A14490387      SI    JR  100.000000               100.0   \n",
       "531  A14088257      SI    SO  100.000000               100.0   \n",
       "532  A14847419      WA    JR   88.656641               100.0   \n",
       "533  A14513929      TH    SR   83.799719               100.0   \n",
       "534  A14365863      WA    SR   88.389331               100.0   \n",
       "\n",
       "    lab01 - Lateness (H:M:S)       lab02  lab02 - Max Points  \\\n",
       "0                   00:00:00   84.990171               100.0   \n",
       "1                   00:00:00   50.784231               100.0   \n",
       "2                   00:00:00   47.802820               100.0   \n",
       "3                   00:00:00  100.000000               100.0   \n",
       "4                   00:00:00   33.422412               100.0   \n",
       "..                       ...         ...                 ...   \n",
       "530                 47:26:10   82.022753               100.0   \n",
       "531                 00:00:00   87.498073               100.0   \n",
       "532                 00:00:00   90.326041               100.0   \n",
       "533                 00:00:00   85.636947               100.0   \n",
       "534                 00:00:00   73.045171               100.0   \n",
       "\n",
       "    lab02 - Lateness (H:M:S)  project01  ...  discussion07 - Lateness (H:M:S)  \\\n",
       "0                   00:00:00  75.282632  ...                         00:00:00   \n",
       "1                   00:00:00  52.929482  ...                        669:12:21   \n",
       "2                   00:00:00  46.122801  ...                         00:00:00   \n",
       "3                   00:00:00  79.121806  ...                         00:00:00   \n",
       "4                   00:00:00  41.823703  ...                         00:00:00   \n",
       "..                       ...        ...  ...                              ...   \n",
       "530                 00:00:00  78.936816  ...                         00:00:00   \n",
       "531                 00:00:00  72.076801  ...                         00:00:00   \n",
       "532                 00:00:00  66.273252  ...                         00:00:00   \n",
       "533                 00:00:00  63.965217  ...                         00:00:00   \n",
       "534                 00:00:00  77.572115  ...                         21:47:10   \n",
       "\n",
       "    discussion08  discussion08 - Max Points  discussion08 - Lateness (H:M:S)  \\\n",
       "0       8.895294                         10                         00:00:00   \n",
       "1       9.022407                         10                         00:00:00   \n",
       "2       3.030538                         10                         00:04:51   \n",
       "3      10.000000                         10                         00:00:00   \n",
       "4       4.439606                         10                         00:00:00   \n",
       "..           ...                        ...                              ...   \n",
       "530    10.000000                         10                         12:08:58   \n",
       "531    10.000000                         10                         00:00:00   \n",
       "532     9.878661                         10                         00:00:00   \n",
       "533     7.759434                         10                         00:00:00   \n",
       "534    10.000000                         10                         00:00:00   \n",
       "\n",
       "    discussion09  discussion09 - Max Points  discussion09 - Lateness (H:M:S)  \\\n",
       "0      10.000000                         10                        780:01:28   \n",
       "1       9.020283                         10                         00:00:00   \n",
       "2       7.613698                         10                         00:00:00   \n",
       "3       9.249126                         10                         00:00:00   \n",
       "4       4.485291                         10                         00:00:00   \n",
       "..           ...                        ...                              ...   \n",
       "530     9.169447                         10                         00:00:00   \n",
       "531    10.000000                         10                         00:00:00   \n",
       "532     8.878946                         10                         00:00:00   \n",
       "533     8.655478                         10                        419:06:41   \n",
       "534     9.515494                         10                         00:00:00   \n",
       "\n",
       "    discussion10  discussion10 - Max Points  discussion10 - Lateness (H:M:S)  \n",
       "0      10.000000                         10                         00:00:00  \n",
       "1       9.437368                         10                         00:00:00  \n",
       "2       9.624617                         10                         00:00:00  \n",
       "3      10.000000                         10                         00:00:00  \n",
       "4       6.282712                         10                         00:00:00  \n",
       "..           ...                        ...                              ...  \n",
       "530    10.000000                         10                         00:00:00  \n",
       "531    10.000000                         10                         00:00:00  \n",
       "532    10.000000                         10                         00:00:00  \n",
       "533     8.102277                         10                         00:00:00  \n",
       "534    10.000000                         10                         00:00:00  \n",
       "\n",
       "[535 rows x 100 columns]"
      ]
     },
     "execution_count": 5,
     "metadata": {},
     "output_type": "execute_result"
    }
   ],
   "source": [
    "grades_fp = os.path.join('data', 'grades.csv')\n",
    "grades = pd.read_csv(grades_fp)\n",
    "grades"
   ]
  },
  {
   "cell_type": "markdown",
   "metadata": {},
   "source": [
    "### Getting started: enumerating the assignments\n",
    "\n",
    "First, you will list all the 'assignment names' and what part of the syllabus to which they belong."
   ]
  },
  {
   "cell_type": "markdown",
   "metadata": {},
   "source": [
    "**Question 1:**\n",
    "\n",
    "Create a function `get_assignment_names` that takes in a dataframe like `grades` and returns a dictionary with the following structure:\n",
    "- The keys are the general areas of the syllabus: `lab, project, midterm, final, disc, checkpoint`\n",
    "- The values are lists that contain the assignment names of that type. For example the lab assignments all have names of the form `labXX` where `XX` is a zero-padded two digit number. See the doctests for more details."
   ]
  },
  {
   "cell_type": "code",
   "execution_count": 6,
   "metadata": {},
   "outputs": [],
   "source": [
    "def get_assignment_names(grades):\n",
    "    '''\n",
    "    get_assignment_names takes in a dataframe like grades and returns\n",
    "    a dictionary with the following structure:\n",
    "    The keys are the general areas of the syllabus: lab, project,\n",
    "    midterm, final, disc, checkpoint\n",
    "    The values are lists that contain the assignment names of that type.\n",
    "    For example the lab assignments all have names of the form labXX where XX\n",
    "    is a zero-padded two digit number. See the doctests for more details.\n",
    "    :Example:\n",
    "    >>> grades_fp = os.path.join('data', 'grades.csv')\n",
    "    >>> grades = pd.read_csv(grades_fp)\n",
    "    >>> names = get_assignment_names(grades)\n",
    "    >>> set(names.keys()) == {'lab', 'project', 'midterm', 'final', 'disc', 'checkpoint'}\n",
    "    True\n",
    "    >>> names['final'] == ['Final']\n",
    "    True\n",
    "    >>> 'project02' in names['project']\n",
    "    True\n",
    "    '''\n",
    "    result = {}\n",
    "    key = ['lab', 'project', 'Midterm','Final','disc','checkpoint']\n",
    "    for i in range(len(key)):\n",
    "        newkey = [x.lower() for x in key]\n",
    "        temp1 = list(grades.filter(like = key[i], axis = 1).columns)\n",
    "        res = np.array([])\n",
    "        for j in temp1:\n",
    "            temp2 = j.split('-')[0].replace(' ','')\n",
    "            res = np.append(temp2, res)\n",
    "        result[newkey[i]] = list(np.unique(res))\n",
    "    new = []\n",
    "    for i in result['project']:\n",
    "        i = i.split('_')[0]\n",
    "        new = np.append(new, i)\n",
    "    result['project'] = list(np.unique((new)))\n",
    "    return result"
   ]
  },
  {
   "cell_type": "code",
   "execution_count": 7,
   "metadata": {
    "deletable": false,
    "editable": false
   },
   "outputs": [
    {
     "data": {
      "text/html": [
       "<p><strong><pre style='display: inline;'>q1</pre></strong> passed!</p>"
      ],
      "text/plain": [
       "q1 results: All test cases passed!"
      ]
     },
     "execution_count": 7,
     "metadata": {},
     "output_type": "execute_result"
    }
   ],
   "source": [
    "grader.check(\"q1\")"
   ]
  },
  {
   "cell_type": "markdown",
   "metadata": {},
   "source": [
    "### Computing project grades"
   ]
  },
  {
   "cell_type": "markdown",
   "metadata": {},
   "source": [
    "**Question 2**\n",
    "\n",
    "Compute the total score for the project portion of the course according to the syllabus. Create a function `projects_total` that takes in `grades` and computes the total project grade for the quarter according to the syllabus. The output Series should contain values between 0 and 1.\n",
    "\n",
    "*Note*: Don't forget to properly handle students who didn't turn in assignments! (Use your experience and common sense).\n",
    "\n",
    "*Note:* To check your work, try (1) calculating the score for a few types of students by hand, and (2) calculate the statistics for the class performance on each individual course project, making sure they look reasonable."
   ]
  },
  {
   "cell_type": "code",
   "execution_count": 8,
   "metadata": {},
   "outputs": [],
   "source": [
    "def projects_total(grades):\n",
    "    '''\n",
    "    projects_total that takes in grades and computes the total project grade\n",
    "    for the quarter according to the syllabus.\n",
    "    The output Series should contain values between 0 and 1.\n",
    "\n",
    "    :Example:\n",
    "    >>> grades_fp = os.path.join('data', 'grades.csv')\n",
    "    >>> grades = pd.read_csv(grades_fp)\n",
    "    >>> out = projects_total(grades)\n",
    "    >>> np.all((0 <= out) & (out <= 1))\n",
    "    True\n",
    "    >>> 0.7 < out.mean() < 0.9\n",
    "    True\n",
    "    '''\n",
    "\n",
    "    df = grades.filter(like='project').fillna(0)\n",
    "    select_columns = df.loc[:, ~df.columns.str.contains('Lateness|Max Points|checkpoint')]\n",
    "    Max = df.filter(like='Max Points').fillna(0)\n",
    "    max_columns = Max.loc[:, ~Max.columns.str.contains('checkpoint')]\n",
    "    return select_columns.sum(axis=1) / max_columns.sum(axis=1)"
   ]
  },
  {
   "cell_type": "code",
   "execution_count": null,
   "metadata": {},
   "outputs": [],
   "source": []
  },
  {
   "cell_type": "code",
   "execution_count": 9,
   "metadata": {
    "deletable": false,
    "editable": false
   },
   "outputs": [
    {
     "data": {
      "text/html": [
       "<p><strong><pre style='display: inline;'>q2</pre></strong> passed!</p>"
      ],
      "text/plain": [
       "q2 results: All test cases passed!"
      ]
     },
     "execution_count": 9,
     "metadata": {},
     "output_type": "execute_result"
    }
   ],
   "source": [
    "grader.check(\"q2\")"
   ]
  },
  {
   "cell_type": "markdown",
   "metadata": {},
   "source": [
    "### Computing lab grades\n",
    "\n",
    "Now, you will clean and process the lab grades, which is a little more complicated. To do this, you will develop functions that:\n",
    "- 'normalize' the grades, \n",
    "- adjust for late submissions, \n",
    "- drop the lowest lab grade, and \n",
    "- creates a total lab score for each student."
   ]
  },
  {
   "cell_type": "markdown",
   "metadata": {},
   "source": [
    "**Question 3**\n",
    "\n",
    "Unfortunately, Gradescope sometimes experiences a delay in registering when an assignment is submitted during \"periods of heavy usage\" (i.e. near a submission deadline). You need to assess when a student's assignment was actually turned in on time, even if Gradescope did not process it in time. To do this, it is helpful to know:\n",
    "* Every late submission has to be submitted by a TA (late submissions are turned off).\n",
    "* TAs never submitted a late assignment \"just after\" the deadline. \n",
    "* The deadlines were at midnight and students had to come to staff hours to late-submit their assignment.\n",
    "\n",
    "Create a function `last_minute_submissions` that takes in the dataframe `grades` and outputs the number of submissions on each *lab* assignment that were turned in on time by a student, yet marked 'late' by Gradescope. See the doctest for more details.\n",
    "\n",
    "*Note:* You have to figure out what truly is a late submission by looking at the data and understanding the facts about the data generating process above. There is some ambiguity in finding which submissions are truly late; you will *make a best guess for a threshold* by looking at this dataset. This question is about 'cleaning' a messy 'data recording process'.\n",
    "\n",
    "*Note 2:* The return value of your function should only contain counts for the *labs*; other assignment types do not need to be handled."
   ]
  },
  {
   "cell_type": "code",
   "execution_count": 10,
   "metadata": {},
   "outputs": [],
   "source": [
    "def last_minute_submissions(grades):\n",
    "    \"\"\"\n",
    "    last_minute_submissions takes in the dataframe\n",
    "    grades and returns a Series indexed by lab assignment that\n",
    "    contains the number of submissions that were turned\n",
    "    in on time by the student, yet marked 'late' by Gradescope.\n",
    "    :Example:\n",
    "    >>> fp = os.path.join('data', 'grades.csv')\n",
    "    >>> grades = pd.read_csv(fp)\n",
    "    >>> out = last_minute_submissions(grades)\n",
    "    >>> isinstance(out, pd.Series)\n",
    "    True\n",
    "    >>> np.all(out.index == ['lab0%d' % d for d in range(1,10)])\n",
    "    True\n",
    "    >>> (out > 0).sum()\n",
    "    8\n",
    "    \"\"\"\n",
    "\n",
    "    lab_lst = get_assignment_names(grades)[\"lab\"]\n",
    "    late_lab_lst = [x + \" - Lateness (H:M:S)\" for x in lab_lst]\n",
    "    output_lst = []\n",
    "    for i in late_lab_lst:\n",
    "        grades[\"late_hour\"] = grades[i].apply(lambda x: int(x.split(\":\")[0]))\n",
    "        new_df = grades[grades[i] != \"00:00:00\"]\n",
    "        # the threshhold should be eight hours\n",
    "        output_lst.append(new_df[new_df[\"late_hour\"].between(0, 7, inclusive=True)].shape[0])\n",
    "\n",
    "    grades.drop(columns=\"late_hour\", inplace = True)\n",
    "    output_s = pd.Series(output_lst, lab_lst)\n",
    "    return output_s"
   ]
  },
  {
   "cell_type": "code",
   "execution_count": 11,
   "metadata": {
    "deletable": false,
    "editable": false
   },
   "outputs": [
    {
     "data": {
      "text/html": [
       "<p><strong><pre style='display: inline;'>q3</pre></strong> passed!</p>"
      ],
      "text/plain": [
       "q3 results: All test cases passed!"
      ]
     },
     "execution_count": 11,
     "metadata": {},
     "output_type": "execute_result"
    }
   ],
   "source": [
    "grader.check(\"q3\")"
   ]
  },
  {
   "cell_type": "markdown",
   "metadata": {},
   "source": [
    "**Question 4**\n",
    "\n",
    "Now you need to adjust the lab grades for late submissions -- however, you need to take into account your investigation in the previous question, since students shouldn't be penalized by a bug in Gradescope!\n",
    "\n",
    "Create a function `lateness_penalty` that takes in a 'Lateness' column and returns a column of penalties (represented by the values `1.0,0.9,0.7,0.4` according to the syllabus). Only *truly* late submissions should be counted as late.\n",
    "\n",
    "*Note*: For the purpose of this project, we will only be calculating lateness for labs. There is no penalty for lateness for projects, discussions, nor checkpoints."
   ]
  },
  {
   "cell_type": "code",
   "execution_count": 12,
   "metadata": {},
   "outputs": [],
   "source": [
    "def lateness_penalty(col):\n",
    "    \"\"\"\n",
    "    adjust_lateness takes in the dataframe like `grades`\n",
    "    and returns a dataframe of lab grades adjusted for\n",
    "    lateness according to the syllabus.\n",
    "    :Example:\n",
    "    >>> fp = os.path.join('data', 'grades.csv')\n",
    "    >>> col = pd.read_csv(fp)['lab01 - Lateness (H:M:S)']\n",
    "    >>> out = lateness_penalty(col)\n",
    "    >>> isinstance(out, pd.Series)\n",
    "    True\n",
    "    >>> set(out.unique()) <= {1.0, 0.9, 0.7, 0.4}\n",
    "    True\n",
    "    \"\"\"\n",
    "    new_s = col.apply(lambda x: int(x.split(\":\")[0]))\n",
    "\n",
    "    def help_func(x):\n",
    "        if x < 8:\n",
    "            return 1.0\n",
    "        if x < (24 * 7):\n",
    "            return 0.9\n",
    "        if x < (24 * 2 * 7):\n",
    "            return 0.7\n",
    "        else:\n",
    "            return 0.4\n",
    "\n",
    "    output_s = new_s.apply(help_func)\n",
    "    return output_s"
   ]
  },
  {
   "cell_type": "code",
   "execution_count": 13,
   "metadata": {
    "deletable": false,
    "editable": false
   },
   "outputs": [
    {
     "data": {
      "text/html": [
       "<p><strong><pre style='display: inline;'>q4</pre></strong> passed!</p>"
      ],
      "text/plain": [
       "q4 results: All test cases passed!"
      ]
     },
     "execution_count": 13,
     "metadata": {},
     "output_type": "execute_result"
    }
   ],
   "source": [
    "grader.check(\"q4\")"
   ]
  },
  {
   "cell_type": "markdown",
   "metadata": {},
   "source": [
    "**Question 5**\n",
    "\n",
    "Create a function `process_labs` that takes in a dataframe like `grades` and returns a dataframe of processed lab scores. The output should:\n",
    "* share the same index as `grades`,\n",
    "* have columns given by the lab assignment names (e.g. `lab01,...lab10`)\n",
    "* have values representing the lab grades for each assignment, adjusted for Lateness and scaled to a score between 0 and 1."
   ]
  },
  {
   "cell_type": "code",
   "execution_count": 14,
   "metadata": {},
   "outputs": [],
   "source": [
    "def process_labs(grades):\n",
    "    \"\"\"\n",
    "    process_labs that takes in a dataframe like grades and returns\n",
    "    a dataframe of processed lab scores. The output should:\n",
    "      * share the same index as grades,\n",
    "      * have columns given by the lab assignment names (e.g. lab01,...lab10)\n",
    "      * have values representing the lab grades for each assignment,\n",
    "        adjusted for Lateness and scaled to a score between 0 and 1.\n",
    "    :Example:\n",
    "    >>> fp = os.path.join('data', 'grades.csv')\n",
    "    >>> grades = pd.read_csv(fp)\n",
    "    >>> out = process_labs(grades)\n",
    "    >>> out.columns.tolist() == ['lab%02d' % x for x in range(1,10)]\n",
    "    True\n",
    "    >>> np.all((0.65 <= out.mean()) & (out.mean() <= 0.90))\n",
    "    True\n",
    "    \"\"\"\n",
    "    df2 = grades.filter(like='lab')\n",
    "\n",
    "    temp = df2.loc[:, ~df2.columns.str.contains('Lateness|Max Points')]\n",
    "    Max2 = df2.filter(like = 'Max Points')\n",
    "    Max2.columns = temp.columns\n",
    "    original_scores = np.divide(temp, Max2)\n",
    "\n",
    "    lateness_columns = df2.loc[:, df2.columns.str.contains('Lateness')]\n",
    "    dat = pd.DataFrame()\n",
    "\n",
    "    for i in list(lateness_columns.columns):\n",
    "        dat[i] = lateness_penalty(lateness_columns[i])\n",
    "\n",
    "    dat.columns = temp.columns\n",
    "    return np.multiply(dat,original_scores)"
   ]
  },
  {
   "cell_type": "code",
   "execution_count": 15,
   "metadata": {
    "deletable": false,
    "editable": false
   },
   "outputs": [
    {
     "data": {
      "text/html": [
       "<p><strong><pre style='display: inline;'>q5</pre></strong> passed!</p>"
      ],
      "text/plain": [
       "q5 results: All test cases passed!"
      ]
     },
     "execution_count": 15,
     "metadata": {},
     "output_type": "execute_result"
    }
   ],
   "source": [
    "grader.check(\"q5\")"
   ]
  },
  {
   "cell_type": "markdown",
   "metadata": {},
   "source": [
    "**Question 6**\n",
    "\n",
    "Create a function `lab_total` that takes in dataframe of processed assignments (like the output of Question 5) and computes the total lab grade for each student according to the syllabus (returning a Series). Your answers should be proportions between 0 and 1. For example, if there are only 3 labs, and a student received scores of {80%,90%,100%}, then the total score would be 0.95.\n",
    "\n",
    "*Note*: Don't forget to properly handle students who didn't turn in assignments! (Use your experience and common sense)."
   ]
  },
  {
   "cell_type": "code",
   "execution_count": 16,
   "metadata": {},
   "outputs": [],
   "source": [
    "def lab_total(processed):\n",
    "    \"\"\"\n",
    "    lab_total takes in dataframe of processed assignments (like the output of\n",
    "    Question 5) and computes the total lab grade for each student according to\n",
    "    the syllabus (returning a Series).\n",
    "\n",
    "    Your answers should be proportions between 0 and 1.\n",
    "    :Example:\n",
    "    >>> cols = 'lab01 lab02 lab03'.split()\n",
    "    >>> processed = pd.DataFrame([[0.2, 0.90, 1.0]], index=[0], columns=cols)\n",
    "    >>> np.isclose(lab_total(processed), 0.95).all()\n",
    "    True\n",
    "    \"\"\"\n",
    "    func = lambda x : x.sort_values()[1:]\n",
    "    output = processed.fillna(0).apply(func, axis = 1).mean(axis = 1)\n",
    "    return output"
   ]
  },
  {
   "cell_type": "code",
   "execution_count": 17,
   "metadata": {
    "deletable": false,
    "editable": false
   },
   "outputs": [
    {
     "data": {
      "text/html": [
       "<p><strong><pre style='display: inline;'>q6</pre></strong> passed!</p>"
      ],
      "text/plain": [
       "q6 results: All test cases passed!"
      ]
     },
     "execution_count": 17,
     "metadata": {},
     "output_type": "execute_result"
    }
   ],
   "source": [
    "grader.check(\"q6\")"
   ]
  },
  {
   "cell_type": "markdown",
   "metadata": {},
   "source": [
    "### Putting it all together"
   ]
  },
  {
   "cell_type": "markdown",
   "metadata": {},
   "source": [
    "**Question 7**\n",
    "\n",
    "Finally, you need to create the final course grades. To do this, you will add up the total of each course component according to the weights given in the syllabus. \n",
    "\n",
    "* Create a function `total_points` that takes in `grades` and returns the final course grades according to the syllabus. Course grades should be proportions between zero and one.\n",
    "* Create a function `final_grades` that takes in the final course grades as above and returns a Series of letter grades given by the standard cutoffs (`A >= .90`, `.90 > B >= .80`, `.80 > C >= .70`, `.70 > D >= .60`, `.60 > F`). You should not use rounding to determining the letter grades.\n",
    "* Create a function `letter_proportions` which takes in the dataframe `grades` and outputs a Series that contains the proportion of the class that received each grade. (This question requires you to put everything together).\n",
    "* The indices should be ordered by the proportion of the class that receives that grade, from largest to smallest.\n",
    "\n",
    "*Note 1*: Don't repeat yourself when computing the checkpoint and discussion portions of the course.\n",
    "\n",
    "*Note 2*: Only the lab portion of the course accounts for late assignments; you may assume all assignments in other portions are turned in without penalty.\n",
    "\n",
    "*Note 3*: These values should add up to exactly 1.0. If you are getting something close such as 0.99999, that means there is a slight issue with your code from above. \n",
    "\n",
    "To check your work, verify the course grade distribution and relevant statistics! Do the work by hand for a few students."
   ]
  },
  {
   "cell_type": "code",
   "execution_count": 18,
   "metadata": {},
   "outputs": [],
   "source": [
    "def total_points(grades):\n",
    "    \"\"\"\n",
    "    total_points takes in grades and returns the final\n",
    "    course grades according to the syllabus. Course grades\n",
    "    should be proportions between zero and one.\n",
    "    :Example:\n",
    "    >>> fp = os.path.join('data', 'grades.csv')\n",
    "    >>> grades = pd.read_csv(fp)\n",
    "    >>> out = total_points(grades)\n",
    "    >>> np.all((0 <= out) & (out <= 1))\n",
    "    True\n",
    "    >>> 0.7 < out.mean() < 0.9\n",
    "    True\n",
    "    \"\"\"\n",
    "    lab = lab_total(process_labs(grades))\n",
    "    project = projects_total(grades)\n",
    "\n",
    "    def func(df, parm):\n",
    "        temp = df.filter(like = parm).fillna(0)\n",
    "        points = temp.loc[:, ~temp.columns.str.contains('Lateness|Max Points')]\n",
    "        Max = temp.loc[:, temp.columns.str.contains('Max Points')]\n",
    "        Max.columns = points.columns\n",
    "        original_scores = np.divide(points, Max).sum(axis = 1)\n",
    "        return original_scores / len(points.columns)\n",
    "\n",
    "    checkpoint = func(grades, \"checkpoint\")\n",
    "    discussion = func(grades, \"discussion\")\n",
    "    midterm = func(grades, \"Midterm\")\n",
    "    final = func(grades, \"Final\")\n",
    "\n",
    "    return lab * 0.2 + project * 0.3 + checkpoint * 0.025 + discussion * 0.025 + midterm * 0.15 + final * 0.3\n",
    "\n",
    "def final_grades(total):\n",
    "    \"\"\"\n",
    "    final_grades takes in the final course grades\n",
    "    as above and returns a Series of letter grades\n",
    "    given by the standard cutoffs.\n",
    "    :Example:\n",
    "    >>> out = final_grades(pd.Series([0.92, 0.81, 0.41]))\n",
    "    >>> np.all(out == ['A', 'B', 'F'])\n",
    "    True\n",
    "    \"\"\"\n",
    "    def help_func(x):\n",
    "        if x >= 0.9:\n",
    "            return \"A\"\n",
    "        elif 0.9 > x >= 0.8:\n",
    "            return \"B\"\n",
    "        elif 0.8 > x >= 0.7:\n",
    "            return \"C\"\n",
    "        elif 0.7 > x >= 0.6:\n",
    "            return \"D\"\n",
    "        elif 0.6 > x:\n",
    "            return \"F\"\n",
    "\n",
    "\n",
    "    return total.apply(help_func)\n",
    "\n",
    "\n",
    "def letter_proportions(grades):\n",
    "    \"\"\"\n",
    "    letter_proportions takes in the dataframe grades\n",
    "    and outputs a Series that contains the proportion\n",
    "    of the class that received each grade.\n",
    "    :Example:\n",
    "    >>> fp = os.path.join('data', 'grades.csv')\n",
    "    >>> grades = pd.read_csv(fp)\n",
    "    >>> out = letter_proportions(grades)\n",
    "    >>> np.all(out.index == ['B', 'C', 'A', 'D', 'F'])\n",
    "    True\n",
    "    >>> out.sum() == 1.0\n",
    "    True\n",
    "    \"\"\"\n",
    "    scores = total_points(grades)\n",
    "    letter_grade = final_grades(scores)\n",
    "    result = (letter_grade.value_counts() / letter_grade.shape[0]).sort_values(ascending = False)\n",
    "    return result"
   ]
  },
  {
   "cell_type": "code",
   "execution_count": 19,
   "metadata": {
    "deletable": false,
    "editable": false
   },
   "outputs": [
    {
     "data": {
      "text/html": [
       "<p><strong><pre style='display: inline;'>q7</pre></strong> passed!</p>"
      ],
      "text/plain": [
       "q7 results: All test cases passed!"
      ]
     },
     "execution_count": 19,
     "metadata": {},
     "output_type": "execute_result"
    }
   ],
   "source": [
    "grader.check(\"q7\")"
   ]
  },
  {
   "cell_type": "markdown",
   "metadata": {},
   "source": [
    "### Do Seniors get worse grades?"
   ]
  },
  {
   "cell_type": "markdown",
   "metadata": {},
   "source": [
    "**Question 8**\n",
    "\n",
    "You notice that students who are seniors on average did worse in the class (if you can't verify this, you should go back and check your work!). Is this difference significant, or just due to noise?\n",
    "\n",
    "Perform a hypothesis test, assessing the likelihood of the above statement under the null hypothesis: \n",
    "> \"Seniors earn grades that are roughly equal on average to the rest of the class.\"\n",
    "\n",
    "\n",
    "Create a function `simulate_pval` which takes in the number of simulations `N` and `grades` and returns the the likelihood that the grade of seniors was worse than the average of the class as a whole under the null hypothesis (i.e. calculate the p-value).\n",
    "\n",
    "*Note:* To check your work, plot the sampling distribution and the observation. Do these values look reasonable?\n",
    "\n",
    "*Note 2*: If you sample the data, make sure you sample *with* replacement."
   ]
  },
  {
   "cell_type": "code",
   "execution_count": 20,
   "metadata": {},
   "outputs": [],
   "source": [
    "def simulate_pval(grades, N):\n",
    "    \"\"\"\n",
    "    simulate_pval takes in the number of\n",
    "    simulations N and grades and returns\n",
    "    the likelihood that the grade of seniors\n",
    "    was worse than the class under null hypothesis conditions\n",
    "    (i.e. calculate the p-value).\n",
    "    :Example:\n",
    "    >>> fp = os.path.join('data', 'grades.csv')\n",
    "    >>> grades = pd.read_csv(fp)\n",
    "    >>> out = simulate_pval(grades, 1000)\n",
    "    >>> 0 <= out <= 0.1\n",
    "    True\n",
    "    \"\"\"\n",
    "    observed_stats = total_points(grades[grades['Level'] == 'SR']).mean()\n",
    "    siz = len(grades[grades['Level'] == 'SR'])\n",
    "    score_distr = total_points(grades).value_counts(normalize=True)\n",
    "    samps = np.random.choice(score_distr.index,p=score_distr,size=(N, siz),replace = True)\n",
    "    averages = samps.mean(axis=1)\n",
    "    return (observed_stats >= averages).mean()"
   ]
  },
  {
   "cell_type": "code",
   "execution_count": 21,
   "metadata": {
    "deletable": false,
    "editable": false
   },
   "outputs": [
    {
     "data": {
      "text/html": [
       "<p><strong><pre style='display: inline;'>q8</pre></strong> passed!</p>"
      ],
      "text/plain": [
       "q8 results: All test cases passed!"
      ]
     },
     "execution_count": 21,
     "metadata": {},
     "output_type": "execute_result"
    }
   ],
   "source": [
    "grader.check(\"q8\")"
   ]
  },
  {
   "cell_type": "markdown",
   "metadata": {},
   "source": [
    "### What is the true distribution of grades?\n",
    "\n",
    "The gradebook for this class only reflects one particular instance of each student's performance, subject to the effects of all the little events and hiccups that occurred throughout the quarter. Might you have done better on the midterm had your roommate kept you up all night with their coughing? Wasn't it lucky that the example you were studying just before the final happened to appear on the exam?"
   ]
  },
  {
   "cell_type": "markdown",
   "metadata": {},
   "source": [
    "**Question 9**\n",
    "\n",
    "This question will simulate these '(un)lucky, random events' by adding or subtracting random amounts to each assignment before calculating the final grades. These 'random amounts' will be drawn from a Gaussian distribution of mean 0 and a std deviation 0.02:\n",
    "```\n",
    "np.random.normal(0, 0.02, size=(num_rows, num_cols))\n",
    "```\n",
    "Intuitively, such a model says that random events may bump up or down a given grade (given as a proportion):\n",
    "- which on average has no effect on the class as a whole (mean 0),\n",
    "- which not uncommonly might perturb a grade by 2% (std dev 0.02).\n",
    "\n",
    "Create a function `total_points_with_noise` that takes in a dataframe like `grades`, adds noise to the assignments as described above, and returns the final scores using *the same procedure* as questions 1-7.\n",
    "\n",
    "*Note:* You should be able to reuse (or minorly change) the code from previous problems. Try to be DRY (don't repeat yourself)!\n",
    "\n",
    "*Note 1:* Once adding the noise to the assignment scores, use the `np.clip` function to be sure each assignment retains a score between 0% and 100%.\n",
    "\n",
    "*Note 2:* To check your work -- what would you expect the difference between the actual scores and noisy scores to be, on average?"
   ]
  },
  {
   "cell_type": "code",
   "execution_count": 22,
   "metadata": {
    "tags": []
   },
   "outputs": [],
   "source": [
    "def total_points_with_noise(grades):\n",
    "    \"\"\"\n",
    "    total_points_with_noise takes in a dataframe like grades,\n",
    "    adds noise to the assignments as described in notebook, and returns\n",
    "    the total scores of each student calculated with noisy grades.\n",
    "    :Example:\n",
    "    >>> fp = os.path.join('data', 'grades.csv')\n",
    "    >>> grades = pd.read_csv(fp)\n",
    "    >>> out = total_points_with_noise(grades)\n",
    "    >>> np.all((0 <= out) & (out <= 1))\n",
    "    True\n",
    "    >>> 0.7 < out.mean() < 0.9\n",
    "    True\n",
    "    \"\"\"\n",
    "    def func(grades):\n",
    "        result = {}\n",
    "        key = ['lab', 'project', 'Midterm', 'Final', 'disc', 'checkpoint']\n",
    "        for i in range(len(key)):\n",
    "            newkey = [x.lower() for x in key]\n",
    "            temp1 = list(filter(lambda x: \"checkpoint\" not in x, list(grades.filter(like=key[i], axis=1).columns)))\n",
    "            res = np.array([])\n",
    "            for j in temp1:\n",
    "                temp2 = j.split('-')[0].replace(' ', '')\n",
    "                res = np.append(temp2, res)\n",
    "            result[newkey[i]] = list(np.unique(res))\n",
    "        contain_checkpoint = list(grades.filter(like=\"checkpoint\", axis=1).columns)\n",
    "        check_arr = np.array([])\n",
    "        for a in contain_checkpoint:\n",
    "            splitted = a.split('-')[0].replace(' ', '')\n",
    "            check_arr = np.append(splitted, check_arr)\n",
    "        result[\"checkpoint\"] = list(np.unique(check_arr))\n",
    "        return result\n",
    "\n",
    "\n",
    "    new = grades.fillna(0)\n",
    "    newdf = process_labs(new)\n",
    "    assignment = pd.Series(func(new)).sum()\n",
    "\n",
    "    noise = pd.DataFrame(np.random.normal(0, 0.02, size = (new.shape[0], len(assignment)))).clip(-1,1)\n",
    "    noise.columns = assignment\n",
    "    for i in assignment:\n",
    "\n",
    "        if 'lab' in i:\n",
    "            new[i] = ((newdf[i] + noise[i]) * new[i + ' - Max Points'])/ lateness_penalty(new[i + \" - Lateness (H:M:S)\"])\n",
    "        else:\n",
    "            new[i] = ((new[i] /new[i + ' - Max Points']) + noise[i]) * new[i + ' - Max Points']\n",
    "\n",
    "    output = total_points(new).clip(0,1)\n",
    "    return output"
   ]
  },
  {
   "cell_type": "code",
   "execution_count": 23,
   "metadata": {
    "deletable": false,
    "editable": false
   },
   "outputs": [
    {
     "data": {
      "text/html": [
       "<p><strong><pre style='display: inline;'>q9</pre></strong> passed!</p>"
      ],
      "text/plain": [
       "q9 results: All test cases passed!"
      ]
     },
     "execution_count": 23,
     "metadata": {},
     "output_type": "execute_result"
    }
   ],
   "source": [
    "grader.check(\"q9\")"
   ]
  },
  {
   "cell_type": "markdown",
   "metadata": {},
   "source": [
    "### Short-answer questions (hard-coded)\n",
    "\n",
    "Use your functions from above to understanding the data and answer the following questions. The function below should return **hard-coded values**. It should not compute anything!"
   ]
  },
  {
   "cell_type": "markdown",
   "metadata": {},
   "source": [
    "**Question 10**\n",
    "\n",
    "Create a function `short_answer` with zero parameters that returns (hard-coded) answers to the following question in a list of length 5:\n",
    "\n",
    "0. For the class on average, what is the difference between students' scores (`total_points`) and their scores with noise (`total_points_with_noise`)? (Remark: plot the distribution of differences; does this align with what you know about binomial distributions?)\n",
    "1. What **percentage** of the class only sees their grade change at most (but not including) $\\pm 0.01$? (Your answer should be a number between 0 and 100.)\n",
    "2. What is the 95% confidence interval for the statistic above? (see [DSC10](https://www.inferentialthinking.com/chapters/13/3/Confidence_Intervals.html) and use `np.percentile`)\n",
    "3. What **proportion** of the class sees a change in their letter grade? (Your answer should be a number between 0 and 1.)\n",
    "4. Is the assumption behind the model in Question 9 that:\n",
    "    - The (observed) gradebook well represents the true population of students? (True or False)\n",
    "    - The noisy scores does not represent other possible observations drawn from the true population of students. (True or False)\n",
    "    - Answer `True` or `False` in a list, like `[True, True]`."
   ]
  },
  {
   "cell_type": "code",
   "execution_count": 24,
   "metadata": {
    "tags": []
   },
   "outputs": [],
   "source": [
    "def short_answer():\n",
    "    \"\"\"\n",
    "    short_answer returns (hard-coded) answers to the\n",
    "    questions listed in the notebook. The answers should be\n",
    "    given in a list with the same order as questions.\n",
    "    :Example:\n",
    "    >>> out = short_answer()\n",
    "    >>> len(out) == 5\n",
    "    True\n",
    "    >>> len(out[2]) == 2\n",
    "    True\n",
    "    >>> 50 < out[2][0] < 100\n",
    "    True\n",
    "    >>> 0 < out[3] < 1\n",
    "    True\n",
    "    >>> isinstance(out[4][0], bool)\n",
    "    True\n",
    "    >>> isinstance(out[4][1], bool)\n",
    "    True\n",
    "    \"\"\"\n",
    "    return [-0.000122514370581972, 0.8336448598130841,[80.364485, 86.55140],\n",
    "        0.0616822429906542,[True, False]]"
   ]
  },
  {
   "cell_type": "code",
   "execution_count": null,
   "metadata": {
    "tags": []
   },
   "outputs": [],
   "source": []
  },
  {
   "cell_type": "code",
   "execution_count": null,
   "metadata": {
    "tags": []
   },
   "outputs": [],
   "source": []
  },
  {
   "cell_type": "code",
   "execution_count": 25,
   "metadata": {
    "deletable": false,
    "editable": false
   },
   "outputs": [
    {
     "data": {
      "text/html": [
       "<p><strong><pre style='display: inline;'>q10</pre></strong> passed!</p>"
      ],
      "text/plain": [
       "q10 results: All test cases passed!"
      ]
     },
     "execution_count": 25,
     "metadata": {},
     "output_type": "execute_result"
    }
   ],
   "source": [
    "grader.check(\"q10\")"
   ]
  },
  {
   "cell_type": "markdown",
   "metadata": {},
   "source": [
    "# Congratulations, you finished the project!\n",
    "\n",
    "### Before you submit:\n",
    "* Be sure you run the doctests on all your code in `project.py`\n",
    "\n",
    "### To submit:\n",
    "* **Upload the .py file to gradescope**"
   ]
  },
  {
   "cell_type": "markdown",
   "metadata": {
    "deletable": false,
    "editable": false
   },
   "source": [
    "---\n",
    "\n",
    "To double-check your work, the cell below will rerun all of the autograder tests."
   ]
  },
  {
   "cell_type": "code",
   "execution_count": 26,
   "metadata": {
    "deletable": false,
    "editable": false
   },
   "outputs": [
    {
     "data": {
      "text/plain": [
       "q1 results: All test cases passed!\n",
       "\n",
       "q10 results: All test cases passed!\n",
       "\n",
       "q2 results: All test cases passed!\n",
       "\n",
       "q3 results: All test cases passed!\n",
       "\n",
       "q4 results: All test cases passed!\n",
       "\n",
       "q5 results: All test cases passed!\n",
       "\n",
       "q6 results: All test cases passed!\n",
       "\n",
       "q7 results: All test cases passed!\n",
       "\n",
       "q8 results: All test cases passed!\n",
       "\n",
       "q9 results: All test cases passed!"
      ]
     },
     "execution_count": 26,
     "metadata": {},
     "output_type": "execute_result"
    }
   ],
   "source": [
    "grader.check_all()"
   ]
  },
  {
   "cell_type": "code",
   "execution_count": null,
   "metadata": {},
   "outputs": [],
   "source": []
  }
 ],
 "metadata": {
  "kernelspec": {
   "display_name": "Python 3",
   "language": "python",
   "name": "python3"
  },
  "language_info": {
   "codemirror_mode": {
    "name": "ipython",
    "version": 3
   },
   "file_extension": ".py",
   "mimetype": "text/x-python",
   "name": "python",
   "nbconvert_exporter": "python",
   "pygments_lexer": "ipython3",
   "version": "3.8.5"
  },
  "otter": {
   "tests": {
    "q1": {
     "name": "q1",
     "points": null,
     "suites": [
      {
       "cases": [
        {
         "code": ">>> out = get_assignment_names(grades)\n>>> out['final'] == ['Final']\nTrue",
         "hidden": false,
         "locked": false,
         "points": 1
        },
        {
         "code": ">>> out = get_assignment_names(grades)\n>>> set(out.keys()) == {'lab', 'project', 'midterm', 'final', 'disc', 'checkpoint'}\nTrue",
         "hidden": false,
         "locked": false,
         "points": 1
        },
        {
         "code": ">>> out = get_assignment_names(grades)\n>>> 'project02' in out['project']\nTrue",
         "hidden": false,
         "locked": false,
         "points": 1
        }
       ],
       "scored": true,
       "setup": "",
       "teardown": "",
       "type": "doctest"
      }
     ]
    },
    "q10": {
     "name": "q10",
     "points": null,
     "suites": [
      {
       "cases": [
        {
         "code": ">>> out = short_answer()\n>>> len(out) == 5\nTrue",
         "hidden": false,
         "locked": false,
         "points": 1
        },
        {
         "code": ">>> out = short_answer()\n>>> (len(out[2])) == 2 and (50 < out[2][0] < 100) and (0 < out[3] < 1)\nTrue",
         "hidden": false,
         "locked": false,
         "points": 1
        },
        {
         "code": ">>> out = short_answer()\n>>> isinstance(out[4][0], bool) and isinstance(out[4][1], bool)\nTrue",
         "hidden": false,
         "locked": false,
         "points": 1
        }
       ],
       "scored": true,
       "setup": "",
       "teardown": "",
       "type": "doctest"
      }
     ]
    },
    "q2": {
     "name": "q2",
     "points": null,
     "suites": [
      {
       "cases": [
        {
         "code": ">>> out = projects_total(grades)\n>>> np.all((0 <= out) & (out <= 1))\nTrue",
         "hidden": false,
         "locked": false,
         "points": 1
        },
        {
         "code": ">>> out = projects_total(grades)\n>>> 0.7 < out.mean() < 0.9\nTrue",
         "hidden": false,
         "locked": false,
         "points": 1
        }
       ],
       "scored": true,
       "setup": "",
       "teardown": "",
       "type": "doctest"
      }
     ]
    },
    "q3": {
     "name": "q3",
     "points": null,
     "suites": [
      {
       "cases": [
        {
         "code": ">>> out = last_minute_submissions(grades)\n>>> isinstance(out, pd.Series)\nTrue",
         "hidden": false,
         "locked": false,
         "points": 1
        },
        {
         "code": ">>> out = last_minute_submissions(grades)\n>>> np.all(out.index == ['lab0%d' % d for d in range(1,10)])\nTrue",
         "failure_message": "Checking that all labs, and only labs, are included in the results of last_minute_submissions.",
         "hidden": false,
         "locked": false,
         "points": 1
        },
        {
         "code": ">>> out = last_minute_submissions(grades)\n>>> (out > 0).sum() == 8\nTrue",
         "failure_message": "Checking that there are exactly 8 labs that are incorrectly marked as late.",
         "hidden": false,
         "locked": false,
         "points": 1
        }
       ],
       "scored": true,
       "setup": "",
       "teardown": "",
       "type": "doctest"
      }
     ]
    },
    "q4": {
     "name": "q4",
     "points": null,
     "suites": [
      {
       "cases": [
        {
         "code": ">>> out = lateness_penalty(grades['lab01 - Lateness (H:M:S)'])\n>>> isinstance(out, pd.Series)\nTrue",
         "hidden": false,
         "locked": false,
         "points": 1
        },
        {
         "code": ">>> out = lateness_penalty(grades['lab01 - Lateness (H:M:S)'])\n>>> set(out.unique()) <= {1.0, 0.9, 0.7, 0.4}\nTrue",
         "hidden": false,
         "locked": false,
         "points": 1
        }
       ],
       "scored": true,
       "setup": "",
       "teardown": "",
       "type": "doctest"
      }
     ]
    },
    "q5": {
     "name": "q5",
     "points": null,
     "suites": [
      {
       "cases": [
        {
         "code": ">>> out = process_labs(grades)\n>>> out.columns.tolist() == ['lab%02d' % x for x in range(1,10)]\nTrue",
         "hidden": false,
         "locked": false,
         "points": 1
        },
        {
         "code": ">>> out = process_labs(grades)\n>>> np.all((0.65 <= out.mean()) & (out.mean() <= 0.90))\nTrue",
         "hidden": false,
         "locked": false,
         "points": 1
        }
       ],
       "scored": true,
       "setup": "",
       "teardown": "",
       "type": "doctest"
      }
     ]
    },
    "q6": {
     "name": "q6",
     "points": null,
     "suites": [
      {
       "cases": [
        {
         "code": ">>> cols = 'lab01 lab02 lab03'.split()\n>>> processed = pd.DataFrame([[0.2, 0.90, 1.0]], index=[0], columns=cols)\n>>> np.isclose(lab_total(processed), 0.95).all()\nTrue",
         "hidden": false,
         "locked": false,
         "points": 1
        }
       ],
       "scored": true,
       "setup": "",
       "teardown": "",
       "type": "doctest"
      }
     ]
    },
    "q7": {
     "name": "q7",
     "points": null,
     "suites": [
      {
       "cases": [
        {
         "code": ">>> out = total_points(grades)\n>>> np.all((0 <= out) & (out <= 1))\nTrue",
         "hidden": false,
         "locked": false,
         "points": 1
        },
        {
         "code": ">>> out = total_points(grades)\n>>> 0.7 < out.mean() < 0.9\nTrue",
         "hidden": false,
         "locked": false,
         "points": 1
        },
        {
         "code": ">>> out = final_grades(pd.Series([0.92, 0.81, 0.41]))\n>>> np.all(out == ['A', 'B', 'F'])\nTrue",
         "hidden": false,
         "locked": false,
         "points": 1
        },
        {
         "code": ">>> out = letter_proportions(grades)\n>>> np.all(out.index == ['B', 'C', 'A', 'D', 'F'])\nTrue",
         "hidden": false,
         "locked": false,
         "points": 1
        },
        {
         "code": ">>> out = letter_proportions(grades)\n>>> out.sum() == 1.0\nTrue",
         "hidden": false,
         "locked": false,
         "points": 1
        }
       ],
       "scored": true,
       "setup": "",
       "teardown": "",
       "type": "doctest"
      }
     ]
    },
    "q8": {
     "name": "q8",
     "points": null,
     "suites": [
      {
       "cases": [
        {
         "code": ">>> out = simulate_pval(grades, 1000)\n>>> 0 <= out <= 0.1\nTrue",
         "hidden": false,
         "locked": false,
         "points": 1
        }
       ],
       "scored": true,
       "setup": "",
       "teardown": "",
       "type": "doctest"
      }
     ]
    },
    "q9": {
     "name": "q9",
     "points": null,
     "suites": [
      {
       "cases": [
        {
         "code": ">>> out = total_points_with_noise(grades)\n>>> np.all((0 <= out) & (out <= 1))\nTrue",
         "hidden": false,
         "locked": false,
         "points": 1
        },
        {
         "code": ">>> out = total_points_with_noise(grades)\n>>> 0.7 < out.mean() < 0.9\nTrue",
         "hidden": false,
         "locked": false,
         "points": 1
        }
       ],
       "scored": true,
       "setup": "",
       "teardown": "",
       "type": "doctest"
      }
     ]
    }
   }
  }
 },
 "nbformat": 4,
 "nbformat_minor": 4
}
